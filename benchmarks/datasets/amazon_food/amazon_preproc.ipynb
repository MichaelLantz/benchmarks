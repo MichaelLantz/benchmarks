{
 "cells": [
  {
   "cell_type": "markdown",
   "metadata": {},
   "source": [
    "2021.02.12\n",
    "\n",
    "The following processes the amazon dataset from: https://www.kaggle.com/snap/amazon-fine-food-reviews\n",
    "\n",
    "Original Data Size: 568454 x 10  \n",
    "Final dataset size: 396295 x 7\n",
    "\n",
    "For simplicity, I omitted the following columns:\n",
    "\n",
    "* Id -- unique identifier, not helpful\n",
    "* ProductId -- mostly unique identifier, not helpful\n",
    "* UserId -- mostly unique identifier\n",
    "* Time -- this is useful probably but unsure about datetime conversion in mindsdb right now\n",
    "* Summary -- this is useful, but may enable a net to 'cheat' and not really use full-text data."
   ]
  },
  {
   "cell_type": "code",
   "execution_count": 1,
   "metadata": {},
   "outputs": [],
   "source": [
    "import pandas as pd\n",
    "import numpy as np\n",
    "import matplotlib.pyplot as plt"
   ]
  },
  {
   "cell_type": "code",
   "execution_count": 2,
   "metadata": {},
   "outputs": [
    {
     "name": "stdout",
     "output_type": "stream",
     "text": [
      "amazon_preproc.ipynb  \u001b[0m\u001b[01;31marchive.zip\u001b[0m  database.sqlite  hashes.txt  Reviews.csv\r\n"
     ]
    }
   ],
   "source": [
    "%ls"
   ]
  },
  {
   "cell_type": "code",
   "execution_count": 3,
   "metadata": {},
   "outputs": [
    {
     "name": "stdout",
     "output_type": "stream",
     "text": [
      "(568454, 10)\n"
     ]
    },
    {
     "data": {
      "text/html": [
       "<div>\n",
       "<style scoped>\n",
       "    .dataframe tbody tr th:only-of-type {\n",
       "        vertical-align: middle;\n",
       "    }\n",
       "\n",
       "    .dataframe tbody tr th {\n",
       "        vertical-align: top;\n",
       "    }\n",
       "\n",
       "    .dataframe thead th {\n",
       "        text-align: right;\n",
       "    }\n",
       "</style>\n",
       "<table border=\"1\" class=\"dataframe\">\n",
       "  <thead>\n",
       "    <tr style=\"text-align: right;\">\n",
       "      <th></th>\n",
       "      <th>Id</th>\n",
       "      <th>ProductId</th>\n",
       "      <th>UserId</th>\n",
       "      <th>ProfileName</th>\n",
       "      <th>HelpfulnessNumerator</th>\n",
       "      <th>HelpfulnessDenominator</th>\n",
       "      <th>Score</th>\n",
       "      <th>Time</th>\n",
       "      <th>Summary</th>\n",
       "      <th>Text</th>\n",
       "    </tr>\n",
       "  </thead>\n",
       "  <tbody>\n",
       "    <tr>\n",
       "      <th>0</th>\n",
       "      <td>1</td>\n",
       "      <td>B001E4KFG0</td>\n",
       "      <td>A3SGXH7AUHU8GW</td>\n",
       "      <td>delmartian</td>\n",
       "      <td>1</td>\n",
       "      <td>1</td>\n",
       "      <td>5</td>\n",
       "      <td>1303862400</td>\n",
       "      <td>Good Quality Dog Food</td>\n",
       "      <td>I have bought several of the Vitality canned d...</td>\n",
       "    </tr>\n",
       "    <tr>\n",
       "      <th>1</th>\n",
       "      <td>2</td>\n",
       "      <td>B00813GRG4</td>\n",
       "      <td>A1D87F6ZCVE5NK</td>\n",
       "      <td>dll pa</td>\n",
       "      <td>0</td>\n",
       "      <td>0</td>\n",
       "      <td>1</td>\n",
       "      <td>1346976000</td>\n",
       "      <td>Not as Advertised</td>\n",
       "      <td>Product arrived labeled as Jumbo Salted Peanut...</td>\n",
       "    </tr>\n",
       "    <tr>\n",
       "      <th>2</th>\n",
       "      <td>3</td>\n",
       "      <td>B000LQOCH0</td>\n",
       "      <td>ABXLMWJIXXAIN</td>\n",
       "      <td>Natalia Corres \"Natalia Corres\"</td>\n",
       "      <td>1</td>\n",
       "      <td>1</td>\n",
       "      <td>4</td>\n",
       "      <td>1219017600</td>\n",
       "      <td>\"Delight\" says it all</td>\n",
       "      <td>This is a confection that has been around a fe...</td>\n",
       "    </tr>\n",
       "    <tr>\n",
       "      <th>3</th>\n",
       "      <td>4</td>\n",
       "      <td>B000UA0QIQ</td>\n",
       "      <td>A395BORC6FGVXV</td>\n",
       "      <td>Karl</td>\n",
       "      <td>3</td>\n",
       "      <td>3</td>\n",
       "      <td>2</td>\n",
       "      <td>1307923200</td>\n",
       "      <td>Cough Medicine</td>\n",
       "      <td>If you are looking for the secret ingredient i...</td>\n",
       "    </tr>\n",
       "    <tr>\n",
       "      <th>4</th>\n",
       "      <td>5</td>\n",
       "      <td>B006K2ZZ7K</td>\n",
       "      <td>A1UQRSCLF8GW1T</td>\n",
       "      <td>Michael D. Bigham \"M. Wassir\"</td>\n",
       "      <td>0</td>\n",
       "      <td>0</td>\n",
       "      <td>5</td>\n",
       "      <td>1350777600</td>\n",
       "      <td>Great taffy</td>\n",
       "      <td>Great taffy at a great price.  There was a wid...</td>\n",
       "    </tr>\n",
       "  </tbody>\n",
       "</table>\n",
       "</div>"
      ],
      "text/plain": [
       "   Id   ProductId          UserId                      ProfileName  \\\n",
       "0   1  B001E4KFG0  A3SGXH7AUHU8GW                       delmartian   \n",
       "1   2  B00813GRG4  A1D87F6ZCVE5NK                           dll pa   \n",
       "2   3  B000LQOCH0   ABXLMWJIXXAIN  Natalia Corres \"Natalia Corres\"   \n",
       "3   4  B000UA0QIQ  A395BORC6FGVXV                             Karl   \n",
       "4   5  B006K2ZZ7K  A1UQRSCLF8GW1T    Michael D. Bigham \"M. Wassir\"   \n",
       "\n",
       "   HelpfulnessNumerator  HelpfulnessDenominator  Score        Time  \\\n",
       "0                     1                       1      5  1303862400   \n",
       "1                     0                       0      1  1346976000   \n",
       "2                     1                       1      4  1219017600   \n",
       "3                     3                       3      2  1307923200   \n",
       "4                     0                       0      5  1350777600   \n",
       "\n",
       "                 Summary                                               Text  \n",
       "0  Good Quality Dog Food  I have bought several of the Vitality canned d...  \n",
       "1      Not as Advertised  Product arrived labeled as Jumbo Salted Peanut...  \n",
       "2  \"Delight\" says it all  This is a confection that has been around a fe...  \n",
       "3         Cough Medicine  If you are looking for the secret ingredient i...  \n",
       "4            Great taffy  Great taffy at a great price.  There was a wid...  "
      ]
     },
     "execution_count": 3,
     "metadata": {},
     "output_type": "execute_result"
    }
   ],
   "source": [
    "x = pd.read_csv('Reviews.csv')\n",
    "print(x.shape)\n",
    "x.head()"
   ]
  },
  {
   "cell_type": "code",
   "execution_count": 4,
   "metadata": {},
   "outputs": [
    {
     "data": {
      "text/plain": [
       "Index(['Id', 'ProductId', 'UserId', 'ProfileName', 'HelpfulnessNumerator',\n",
       "       'HelpfulnessDenominator', 'Score', 'Time', 'Summary', 'Text'],\n",
       "      dtype='object')"
      ]
     },
     "execution_count": 4,
     "metadata": {},
     "output_type": "execute_result"
    }
   ],
   "source": [
    "x.columns"
   ]
  },
  {
   "cell_type": "code",
   "execution_count": 5,
   "metadata": {},
   "outputs": [],
   "source": [
    "# Convert date columns appropriately\n",
    "\n",
    "dateCols = ['Time']\n",
    "for col in dateCols:\n",
    "    try:\n",
    "        x[col] = pd.to_datetime(x[col])\n",
    "    except ValueError:\n",
    "        print(col, \"cannot be converted to datetime\")\n",
    "        "
   ]
  },
  {
   "cell_type": "markdown",
   "metadata": {},
   "source": [
    "Drop useless columns (for simplicity sake this is defined as columns with too many NaNs). By design, we will drop all identifiers, as these don't provide important information"
   ]
  },
  {
   "cell_type": "code",
   "execution_count": 6,
   "metadata": {},
   "outputs": [],
   "source": [
    "def autolabel(rects, ax):\n",
    "    \"\"\"\n",
    "    Attach a text label above each bar displaying its height\n",
    "    \"\"\"\n",
    "    for rect in rects:\n",
    "        height = rect.get_height()\n",
    "        ax.text(rect.get_x() + rect.get_width()/2., 1.05*height,\n",
    "                '%s' % str(round(height, 2))[:3],\n",
    "                ha='center', va='bottom')"
   ]
  },
  {
   "cell_type": "code",
   "execution_count": 7,
   "metadata": {},
   "outputs": [
    {
     "data": {
      "text/plain": [
       "[Text(0, 0, 'Id'),\n",
       " Text(1, 0, 'ProductId'),\n",
       " Text(2, 0, 'UserId'),\n",
       " Text(3, 0, 'ProfileName'),\n",
       " Text(4, 0, 'HelpfulnessNumerator'),\n",
       " Text(5, 0, 'HelpfulnessDenominator'),\n",
       " Text(6, 0, 'Score'),\n",
       " Text(7, 0, 'Time'),\n",
       " Text(8, 0, 'Summary'),\n",
       " Text(9, 0, 'Text')]"
      ]
     },
     "execution_count": 7,
     "metadata": {},
     "output_type": "execute_result"
    },
    {
     "data": {
      "image/png": "[encoded data removed]",
      "text/plain": [
       "<Figure size 576x288 with 1 Axes>"
      ]
     },
     "metadata": {
      "needs_background": "light"
     },
     "output_type": "display_data"
    }
   ],
   "source": [
    "plt.rcParams['font.size'] = 8\n",
    "# Check NaNs in each column - a priori drop the bad ones\n",
    "fig, axes = plt.subplots(1,1, figsize=(8,4))\n",
    "rect = axes.bar(x.columns, x.isna().sum()/x.shape[0])\n",
    "autolabel(rect, axes)\n",
    "axes.set_xlabel(\"Category\")\n",
    "axes.set_ylabel(\"Number of Missing\")\n",
    "axes.set_title(\"NaN values in Column\")\n",
    "axes.set_yticks(np.arange(0, 1.1, 0.1))\n",
    "axes.set_ylim([0,1.2])\n",
    "axes.set_xticks(range(len(x.columns)))\n",
    "axes.set_xticklabels(x.columns, rotation=45, horizontalalignment=\"right\")"
   ]
  },
  {
   "cell_type": "markdown",
   "metadata": {},
   "source": [
    "No columns are useless! Great!"
   ]
  },
  {
   "cell_type": "code",
   "execution_count": 8,
   "metadata": {},
   "outputs": [
    {
     "data": {
      "text/plain": [
       "Id                                                                   568454\n",
       "ProductId                                                        B001LR2CU2\n",
       "UserId                                                       A3LGQPJCZVL9UC\n",
       "ProfileName                                                        srfell17\n",
       "HelpfulnessNumerator                                                      0\n",
       "HelpfulnessDenominator                                                    0\n",
       "Score                                                                     5\n",
       "Time                                          1970-01-01 00:00:01.338422400\n",
       "Summary                                                         Great Honey\n",
       "Text                      I am very satisfied ,product is as advertised,...\n",
       "Name: 568453, dtype: object"
      ]
     },
     "execution_count": 8,
     "metadata": {},
     "output_type": "execute_result"
    }
   ],
   "source": [
    "# Example row \n",
    "x.iloc[-1]"
   ]
  },
  {
   "cell_type": "code",
   "execution_count": 9,
   "metadata": {},
   "outputs": [
    {
     "name": "stdout",
     "output_type": "stream",
     "text": [
      "Old shape =  (568454, 6)\n",
      "New shape =  (396248, 6)\n"
     ]
    }
   ],
   "source": [
    "remove_cols = [\"Id\", \"ProductId\", \"UserId\", \"Time\"]\n",
    "x = x[[col for col in x.columns if col not in remove_cols]]\n",
    "\n",
    "print(\"Old shape = \", x.shape)\n",
    "# Remove missing values\n",
    "x = x.dropna(how='any') # Remove any NaNs; there are none for this example\n",
    "x = x.drop_duplicates() # Remove any copied instances\n",
    "print(\"New shape = \", x.shape)\n"
   ]
  },
  {
   "cell_type": "markdown",
   "metadata": {},
   "source": [
    "Picking a small subset - may open it up to a larger dataset"
   ]
  },
  {
   "cell_type": "markdown",
   "metadata": {},
   "source": [
    "Predict the rating distribution; this is nice as it has non-negligible 1-3 star reviews.\n"
   ]
  },
  {
   "cell_type": "code",
   "execution_count": 10,
   "metadata": {},
   "outputs": [
    {
     "data": {
      "image/png": "[encoded data removed]",
      "text/plain": [
       "<Figure size 432x288 with 1 Axes>"
      ]
     },
     "metadata": {
      "needs_background": "light"
     },
     "output_type": "display_data"
    }
   ],
   "source": [
    "plt.rcParams['font.size']= 12\n",
    "xticks = np.arange(1,6)\n",
    "\n",
    "f, axes = plt.subplots(1,1, figsize=(6,4))\n",
    "axes.hist(x[\"Score\"],\n",
    "          bins=np.arange(0.99, 5.5,0.5),\n",
    "          weights=np.ones(x.shape[0])/x.shape[0])\n",
    "axes.set_xlabel(\"Ratings\")\n",
    "axes.set_ylabel(\"P(x)\")\n",
    "axes.set_title(\"Product Rating Distribution\")\n",
    "axes.set_yticks(np.arange(0, 1, 0.1))\n",
    "axes.set_ylim([0, 1])\n",
    "axes.set_xticks(xticks)\n",
    "#axes.set_xlim([0, 6])\n",
    "axes.set_xticklabels([str(i) for i in xticks], rotation=45)\n",
    "f.tight_layout()"
   ]
  },
  {
   "cell_type": "code",
   "execution_count": null,
   "metadata": {},
   "outputs": [],
   "source": []
  },
  {
   "cell_type": "code",
   "execution_count": 11,
   "metadata": {},
   "outputs": [],
   "source": [
    "# No Summary Data\n",
    "cols1 = [col for col in x.columns if col != \"Time\"]\n",
    "x[cols1].to_csv(\"data_nosummary.csv\", index=False)\n",
    "\n",
    "# Text only data\n",
    "cols2 = [col for col in [\"Text\", \"Score\"]]\n",
    "x[cols2].to_csv(\"data_textonly.csv\", index=False)\n",
    "\n",
    "# Dataset\n",
    "x.to_csv(\"data_full.csv\", index=False)\n",
    "\n"
   ]
  }
 ],
 "metadata": {
  "kernelspec": {
   "display_name": "mdb",
   "language": "python",
   "name": "mdb"
  },
  "language_info": {
   "codemirror_mode": {
    "name": "ipython",
    "version": 3
   },
   "file_extension": ".py",
   "mimetype": "text/x-python",
   "name": "python",
   "nbconvert_exporter": "python",
   "pygments_lexer": "ipython3",
   "version": "3.8.5"
  }
 },
 "nbformat": 4,
 "nbformat_minor": 4
}
